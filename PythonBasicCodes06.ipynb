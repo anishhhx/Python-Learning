{
 "cells": [
  {
   "cell_type": "markdown",
   "id": "80809185-f248-408d-b890-de8de4daac55",
   "metadata": {},
   "source": [
    "# Calculate the area of the circle with any given radius"
   ]
  },
  {
   "cell_type": "code",
   "execution_count": 3,
   "id": "91f69d86-4476-4120-b355-374a39bf6cf3",
   "metadata": {},
   "outputs": [
    {
     "name": "stdin",
     "output_type": "stream",
     "text": [
      "Enter radius of the circle :-  2\n"
     ]
    },
    {
     "name": "stdout",
     "output_type": "stream",
     "text": [
      "Radius:- 12.56636\n"
     ]
    }
   ],
   "source": [
    "radius = float(input('Enter radius of the circle :- '))\n",
    "area = 3.14159 * radius * radius\n",
    "print('Radius:-',area)"
   ]
  },
  {
   "cell_type": "code",
   "execution_count": null,
   "id": "be99b7bb-5145-435b-adc1-47c8eee5b4d0",
   "metadata": {},
   "outputs": [],
   "source": []
  }
 ],
 "metadata": {
  "kernelspec": {
   "display_name": "Python 3 (ipykernel)",
   "language": "python",
   "name": "python3"
  },
  "language_info": {
   "codemirror_mode": {
    "name": "ipython",
    "version": 3
   },
   "file_extension": ".py",
   "mimetype": "text/x-python",
   "name": "python",
   "nbconvert_exporter": "python",
   "pygments_lexer": "ipython3",
   "version": "3.11.5"
  }
 },
 "nbformat": 4,
 "nbformat_minor": 5
}
