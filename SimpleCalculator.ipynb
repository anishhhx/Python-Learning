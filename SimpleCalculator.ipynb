{
 "cells": [
  {
   "cell_type": "markdown",
   "id": "fe8a6305-09aa-4c7a-9def-835c92f00c2f",
   "metadata": {},
   "source": [
    "# Simple Calculator "
   ]
  },
  {
   "cell_type": "code",
   "execution_count": 1,
   "id": "5e6d3ea9-a657-4be0-8f62-e6c04b4dc13d",
   "metadata": {},
   "outputs": [
    {
     "name": "stdin",
     "output_type": "stream",
     "text": [
      "Enter here:- 5\n",
      "Enter here:- 10\n"
     ]
    },
    {
     "name": "stdout",
     "output_type": "stream",
     "text": [
      "Addition :- 15\n",
      "Subtraction :- -5\n",
      "Multiplication :- 50\n",
      "Divide :- 0.5\n"
     ]
    }
   ],
   "source": [
    "number1 = int(input('Enter here:-'))\n",
    "number2 = int(input('Enter here:-'))\n",
    "print('Addition :-',number1 + number2)\n",
    "print('Subtraction :-',number1 - number2)\n",
    "print('Multiplication :-',number1 * number2)\n",
    "print('Divide :-',number1 / number2)"
   ]
  }
 ],
 "metadata": {
  "kernelspec": {
   "display_name": "Python 3 (ipykernel)",
   "language": "python",
   "name": "python3"
  },
  "language_info": {
   "codemirror_mode": {
    "name": "ipython",
    "version": 3
   },
   "file_extension": ".py",
   "mimetype": "text/x-python",
   "name": "python",
   "nbconvert_exporter": "python",
   "pygments_lexer": "ipython3",
   "version": "3.11.5"
  }
 },
 "nbformat": 4,
 "nbformat_minor": 5
}
