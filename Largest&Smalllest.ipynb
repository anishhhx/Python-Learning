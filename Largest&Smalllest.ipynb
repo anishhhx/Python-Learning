{
 "cells": [
  {
   "cell_type": "markdown",
   "id": "eb132001-60e4-4002-b0af-664cc67f065c",
   "metadata": {},
   "source": [
    "# Find the largest and the smallest number from the list"
   ]
  },
  {
   "cell_type": "code",
   "execution_count": 2,
   "id": "d4d0e59d-4014-468b-81f1-b71824b3728e",
   "metadata": {},
   "outputs": [
    {
     "name": "stdout",
     "output_type": "stream",
     "text": [
      "Largest one is :- 78  & Smallest one is:- 11\n"
     ]
    }
   ],
   "source": [
    "list = [11,42,35,78,25]\n",
    "largest_num = max(list)\n",
    "smallest_num = min(list)\n",
    "print('Largest one is :-',largest_num,' & Smallest one is:-',smallest_num)"
   ]
  }
 ],
 "metadata": {
  "kernelspec": {
   "display_name": "Python 3 (ipykernel)",
   "language": "python",
   "name": "python3"
  },
  "language_info": {
   "codemirror_mode": {
    "name": "ipython",
    "version": 3
   },
   "file_extension": ".py",
   "mimetype": "text/x-python",
   "name": "python",
   "nbconvert_exporter": "python",
   "pygments_lexer": "ipython3",
   "version": "3.11.5"
  }
 },
 "nbformat": 4,
 "nbformat_minor": 5
}
