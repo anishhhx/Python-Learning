{
 "cells": [
  {
   "cell_type": "markdown",
   "id": "4671f117-b659-4bde-b179-d0c879afe404",
   "metadata": {},
   "source": [
    "# Reversing a given string"
   ]
  },
  {
   "cell_type": "code",
   "execution_count": 4,
   "id": "d2973396-6257-4aee-bb74-94a16d1d017e",
   "metadata": {},
   "outputs": [
    {
     "name": "stdin",
     "output_type": "stream",
     "text": [
      "Enter a string:- My name is Python\n"
     ]
    },
    {
     "name": "stdout",
     "output_type": "stream",
     "text": [
      "Reveresed string is :- nohtyP si eman yM\n"
     ]
    }
   ],
   "source": [
    "string = input('Enter a string:-')\n",
    "reversed_string = string[::-1]\n",
    "print('Reveresed string is :-',reversed_string)\n"
   ]
  }
 ],
 "metadata": {
  "kernelspec": {
   "display_name": "Python 3 (ipykernel)",
   "language": "python",
   "name": "python3"
  },
  "language_info": {
   "codemirror_mode": {
    "name": "ipython",
    "version": 3
   },
   "file_extension": ".py",
   "mimetype": "text/x-python",
   "name": "python",
   "nbconvert_exporter": "python",
   "pygments_lexer": "ipython3",
   "version": "3.11.5"
  }
 },
 "nbformat": 4,
 "nbformat_minor": 5
}
