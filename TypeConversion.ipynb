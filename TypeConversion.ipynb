{
 "cells": [
  {
   "cell_type": "markdown",
   "id": "6290d991-b89b-43d6-be01-e5944a07022e",
   "metadata": {},
   "source": [
    "# Type conversion :- str to int and float"
   ]
  },
  {
   "cell_type": "code",
   "execution_count": 4,
   "id": "5090ff18-bacd-411d-a781-eb09d582e9ce",
   "metadata": {},
   "outputs": [
    {
     "name": "stdout",
     "output_type": "stream",
     "text": [
      "123.0\n",
      "123\n"
     ]
    }
   ],
   "source": [
    "string_num = \"123\"\n",
    "int_num = int(string_num)\n",
    "float_num = float(string_num)\n",
    "print(float_num)\n",
    "print(int_num)"
   ]
  }
 ],
 "metadata": {
  "kernelspec": {
   "display_name": "Python 3 (ipykernel)",
   "language": "python",
   "name": "python3"
  },
  "language_info": {
   "codemirror_mode": {
    "name": "ipython",
    "version": 3
   },
   "file_extension": ".py",
   "mimetype": "text/x-python",
   "name": "python",
   "nbconvert_exporter": "python",
   "pygments_lexer": "ipython3",
   "version": "3.11.5"
  }
 },
 "nbformat": 4,
 "nbformat_minor": 5
}
