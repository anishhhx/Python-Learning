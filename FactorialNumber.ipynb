{
 "cells": [
  {
   "cell_type": "markdown",
   "id": "2b342a32-49ae-4193-b04c-ead4d8e7a2b4",
   "metadata": {},
   "source": [
    "# Write a Python program to calculate the factorial of a number"
   ]
  },
  {
   "cell_type": "code",
   "execution_count": 2,
   "id": "00c34355-d549-44b0-999e-2323e3c24ccd",
   "metadata": {},
   "outputs": [
    {
     "name": "stdin",
     "output_type": "stream",
     "text": [
      "Enter: 5\n"
     ]
    },
    {
     "name": "stdout",
     "output_type": "stream",
     "text": [
      "Factorial 120\n"
     ]
    }
   ],
   "source": [
    "number = int(input('Enter:'))\n",
    "f=1\n",
    "i=1\n",
    "while i<= number:\n",
    "    f=f*i\n",
    "    i=i+1\n",
    "print('Factorial',f)"
   ]
  }
 ],
 "metadata": {
  "kernelspec": {
   "display_name": "Python 3 (ipykernel)",
   "language": "python",
   "name": "python3"
  },
  "language_info": {
   "codemirror_mode": {
    "name": "ipython",
    "version": 3
   },
   "file_extension": ".py",
   "mimetype": "text/x-python",
   "name": "python",
   "nbconvert_exporter": "python",
   "pygments_lexer": "ipython3",
   "version": "3.11.5"
  }
 },
 "nbformat": 4,
 "nbformat_minor": 5
}
