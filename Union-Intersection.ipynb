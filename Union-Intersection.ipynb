{
 "cells": [
  {
   "cell_type": "markdown",
   "id": "71d9cd11-3871-44e1-9a55-7acf49b42d5e",
   "metadata": {},
   "source": [
    "# Find the union, intersection and difference between two sets"
   ]
  },
  {
   "cell_type": "code",
   "execution_count": 17,
   "id": "13a206f3-0446-4b2f-99a0-5809e126d5bb",
   "metadata": {},
   "outputs": [
    {
     "name": "stdout",
     "output_type": "stream",
     "text": [
      "{1, 2, 3, 4, 5, 6, 7}\n",
      "{3, 4, 5}\n",
      "{1, 2}\n"
     ]
    }
   ],
   "source": [
    "set1 = {1,2,3,4,5}\n",
    "set2 = {3,4,5,6,7}\n",
    "union_set = set1.union(set2)\n",
    "intersection_set = set1.intersection(set2)\n",
    "difference_set = set1.difference(set2)\n",
    "print(union_set) # gives all unique one from both sets\n",
    "print(intersection_set) # gives only similars from both sets\n",
    "print(difference_set) # gives only different from both sets"
   ]
  }
 ],
 "metadata": {
  "kernelspec": {
   "display_name": "Python 3 (ipykernel)",
   "language": "python",
   "name": "python3"
  },
  "language_info": {
   "codemirror_mode": {
    "name": "ipython",
    "version": 3
   },
   "file_extension": ".py",
   "mimetype": "text/x-python",
   "name": "python",
   "nbconvert_exporter": "python",
   "pygments_lexer": "ipython3",
   "version": "3.11.5"
  }
 },
 "nbformat": 4,
 "nbformat_minor": 5
}
